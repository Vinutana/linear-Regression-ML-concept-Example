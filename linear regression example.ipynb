{
 "cells": [
  {
   "cell_type": "markdown",
   "metadata": {},
   "source": [
    "## LINEAR REGRESSION USING FIRST PRINCIPLE"
   ]
  },
  {
   "cell_type": "markdown",
   "metadata": {},
   "source": [
    "### Linear Regression\n",
    "Linear programming is a mathematical technique for finding optimal solutions to problems that can be expressed using linear equations and inequalities.\n",
    "Linear regression attempts to model the relationship between two variables by fitting a linear equation to observed data. One variable is considered to be an explanatory variable, and the other is considered to be a dependent variable."
   ]
  },
  {
   "cell_type": "markdown",
   "metadata": {},
   "source": [
    "## Overview"
   ]
  },
  {
   "cell_type": "markdown",
   "metadata": {},
   "source": [
    "#### Hypothesis (h)\n",
    "Hypothesis is a significant relationship between an independent variable X and a dependent variable Y.\n",
    "\n",
    "${x_0}$ is bias value should be 1\n",
    "\n",
    "\n",
    "   $->\\begin{align}\n",
    "    \\ {h} = \\theta_0*x_0+ \\theta_1*x_1 \\;\\;(For\\;single\\;variable)\n",
    "    \\end{align}\n",
    "   $"
   ]
  },
  {
   "cell_type": "markdown",
   "metadata": {},
   "source": [
    "#### Cost Function (mean squared difference )\n",
    "$->\\begin{align}\n",
    "   \\ {J(min)} = (1/(2*m))* \\sum_{i=1}^m (h_i - y_i )^2\n",
    "   \\end{align}\n",
    "    $"
   ]
  },
  {
   "cell_type": "markdown",
   "metadata": {},
   "source": [
    "#### Gradient Descent\n",
    "Gradient Descent is a general function for minimizing a function, in this case the Mean Squared Error(MSE) cost function.\n",
    "\n",
    "$\\begin{align}\n",
    "   \\ {\\theta} = {\\theta}-{ \\alpha }\\frac{\\partial j}{\\Bigl({\\partial \\theta}\\Bigr)}  \n",
    "   \\end{align}\n",
    "    $\n"
   ]
  },
  {
   "cell_type": "markdown",
   "metadata": {},
   "source": [
    "## Data\n",
    "Dummy data to apply linear regression on."
   ]
  },
  {
   "cell_type": "code",
   "execution_count": 18,
   "metadata": {},
   "outputs": [],
   "source": [
    "#Import libraries\n",
    "import numpy as np#importing numpy as np\n",
    "import pandas as pd#importing pandas as pd\n",
    "import matplotlib.pyplot as plt#importing matplotlib.pyplot as plt"
   ]
  },
  {
   "cell_type": "code",
   "execution_count": 3,
   "metadata": {},
   "outputs": [
    {
     "data": {
      "text/html": [
       "<div>\n",
       "<style scoped>\n",
       "    .dataframe tbody tr th:only-of-type {\n",
       "        vertical-align: middle;\n",
       "    }\n",
       "\n",
       "    .dataframe tbody tr th {\n",
       "        vertical-align: top;\n",
       "    }\n",
       "\n",
       "    .dataframe thead th {\n",
       "        text-align: right;\n",
       "    }\n",
       "</style>\n",
       "<table border=\"1\" class=\"dataframe\">\n",
       "  <thead>\n",
       "    <tr style=\"text-align: right;\">\n",
       "      <th></th>\n",
       "      <th>x</th>\n",
       "      <th>y</th>\n",
       "    </tr>\n",
       "  </thead>\n",
       "  <tbody>\n",
       "    <tr>\n",
       "      <th>0</th>\n",
       "      <td>1</td>\n",
       "      <td>1</td>\n",
       "    </tr>\n",
       "    <tr>\n",
       "      <th>1</th>\n",
       "      <td>2</td>\n",
       "      <td>4</td>\n",
       "    </tr>\n",
       "    <tr>\n",
       "      <th>2</th>\n",
       "      <td>3</td>\n",
       "      <td>9</td>\n",
       "    </tr>\n",
       "    <tr>\n",
       "      <th>3</th>\n",
       "      <td>4</td>\n",
       "      <td>16</td>\n",
       "    </tr>\n",
       "    <tr>\n",
       "      <th>4</th>\n",
       "      <td>5</td>\n",
       "      <td>25</td>\n",
       "    </tr>\n",
       "  </tbody>\n",
       "</table>\n",
       "</div>"
      ],
      "text/plain": [
       "   x   y\n",
       "0  1   1\n",
       "1  2   4\n",
       "2  3   9\n",
       "3  4  16\n",
       "4  5  25"
      ]
     },
     "execution_count": 3,
     "metadata": {},
     "output_type": "execute_result"
    }
   ],
   "source": [
    "# Read the data set\n",
    "data = pd.read_csv('example.csv')#reading file\n",
    "data.head()#display first five data "
   ]
  },
  {
   "cell_type": "code",
   "execution_count": 4,
   "metadata": {},
   "outputs": [],
   "source": [
    "#loc attribute access paticular cell in the given DataFrame using the index & column labels.\n",
    "x=np.array(data.iloc[:,0:-1])\n",
    "y=np.array(data.iloc[:,-1:])"
   ]
  },
  {
   "cell_type": "code",
   "execution_count": 5,
   "metadata": {},
   "outputs": [
    {
     "name": "stdout",
     "output_type": "stream",
     "text": [
      "(199, 1)\n",
      "(199, 1)\n"
     ]
    }
   ],
   "source": [
    "print(np.shape(x))#prints shape of x\n",
    "print(np.shape(y))#prints shape of y"
   ]
  },
  {
   "cell_type": "code",
   "execution_count": 6,
   "metadata": {},
   "outputs": [
    {
     "data": {
      "image/png": "[encoded data removed]",
      "text/plain": [
       "<Figure size 432x288 with 1 Axes>"
      ]
     },
     "metadata": {
      "needs_background": "light"
     },
     "output_type": "display_data"
    }
   ],
   "source": [
    "#ploting X and Y Dataset (x should be input dataset and y should output dataset(left side))\n",
    "plt.figure(1)#create figure\n",
    "plt.title(\"Generated data\")#giving title\n",
    "plt.xlabel(\"X\")#labeling\n",
    "plt.ylabel(\"Y\")#labeling\n",
    "plt.plot(x,y,'*')#ploting\n",
    "plt.show()#display"
   ]
  },
  {
   "cell_type": "markdown",
   "metadata": {},
   "source": [
    "### Training & Testing Dataset"
   ]
  },
  {
   "cell_type": "markdown",
   "metadata": {},
   "source": [
    "The training data is used to make sure the machine recognizes patterns in the data,and the test data is used to see how well the machine can predict new answers based on its training."
   ]
  },
  {
   "cell_type": "code",
   "execution_count": 7,
   "metadata": {},
   "outputs": [],
   "source": [
    "#split function using randomization\n",
    "def split_data(x,y,test_per):#function definition\n",
    "    m=len(x)#reads length of x\n",
    "    random_data=np.random.randint(0,m,m)#selects random data\n",
    "    #Number Of train set & test set \n",
    "    num_train_set = int((1-test_per)*m)\n",
    "    num_test_set  = int(test_per*m)\n",
    "    train_ind=random_data[0:num_train_set]\n",
    "    #creating a array of zeros for the train dataset\n",
    "    x_train=np.zeros((len(train_ind),1))\n",
    "    y_train=np.zeros((len(train_ind),1))\n",
    "    # x_train & y_train after the split \n",
    "    x_train = x[train_ind]\n",
    "    y_train = y[train_ind]\n",
    "    \n",
    "    num_test_set=random_data[num_train_set::]\n",
    "    #creating a array of zeros for the test dataset\n",
    "    x_test=np.zeros((len(num_test_set),1))\n",
    "    y_test=np.zeros((len(num_test_set),1))\n",
    "    #x_test & y_test after the split\n",
    "    x_test = x[num_test_set]\n",
    "    y_test = y[num_test_set]\n",
    "    return x_train,y_train,x_test,y_test"
   ]
  },
  {
   "cell_type": "code",
   "execution_count": 8,
   "metadata": {},
   "outputs": [
    {
     "data": {
      "image/png": "[encoded data removed]",
      "text/plain": [
       "<Figure size 432x288 with 1 Axes>"
      ]
     },
     "metadata": {
      "needs_background": "light"
     },
     "output_type": "display_data"
    }
   ],
   "source": [
    "x_train,y_train,x_test,y_test = split_data(x,y,0.2)\n",
    "#Plotting the graph x_train,y_train,x_test,y_test\n",
    "plt.figure(2)\n",
    "plt.plot(x_train,y_train,'r*',label='Train Data')\n",
    "plt.plot(x_test,y_test,'b*',label='Test Data')\n",
    "plt.legend()\n",
    "plt.show()"
   ]
  },
  {
   "cell_type": "markdown",
   "metadata": {},
   "source": [
    "## Adding x0 bias in Dataset"
   ]
  },
  {
   "cell_type": "code",
   "execution_count": 9,
   "metadata": {},
   "outputs": [
    {
     "name": "stdout",
     "output_type": "stream",
     "text": [
      "(1, 159) (159, 2)\n"
     ]
    }
   ],
   "source": [
    "r,c=np.shape(x_train)\n",
    "x_train=np.transpose(x_train)\n",
    "x0=np.ones((r,1))\n",
    "x0=np.transpose(x0)\n",
    "x_train=np.transpose(np.concatenate((x0,x_train)))\n",
    "print(np.shape(x0),np.shape(x_train))"
   ]
  },
  {
   "cell_type": "markdown",
   "metadata": {},
   "source": [
    "## Cost Function & Gradient Descent"
   ]
  },
  {
   "cell_type": "code",
   "execution_count": 10,
   "metadata": {},
   "outputs": [],
   "source": [
    "#Initialize variables\n",
    "r,c=np.shape(x_train)\n",
    "theta=np.zeros((1,c))\n",
    "alpha=0.00001\n",
    "num_iters=1000"
   ]
  },
  {
   "cell_type": "code",
   "execution_count": 11,
   "metadata": {
    "scrolled": true
   },
   "outputs": [],
   "source": [
    "def costfunction(x_train,y_train,theta):\n",
    "    m=len(x_train)\n",
    "    j=0\n",
    "    for i in range(m):\n",
    "        h=np.matmul(theta,np.transpose(x_train[i]))\n",
    "        j=j+((h-y_train[i])**2)       \n",
    "    return j/(2*m)\n"
   ]
  },
  {
   "cell_type": "code",
   "execution_count": 12,
   "metadata": {},
   "outputs": [
    {
     "name": "stdout",
     "output_type": "stream",
     "text": [
      "Cost value is [1.64463511e+08]\n"
     ]
    }
   ],
   "source": [
    "j1 = costfunction(x_train,y_train,theta)\n",
    "print(\"Cost value is\", j1)"
   ]
  },
  {
   "cell_type": "code",
   "execution_count": 13,
   "metadata": {},
   "outputs": [],
   "source": [
    "def gradientDescent(x_train,y_train,theta,alpha,num_iters):\n",
    "    l=0\n",
    "    cost = []\n",
    "    while l<num_iters:\n",
    "        err=np.zeros((1,c))\n",
    "        h=np.matmul(theta,np.transpose(x_train))\n",
    "        err=np.sum(((np.transpose(h)-y_train)*x_train),axis=0)\n",
    "        theta=theta-(alpha*(1/r))*err\n",
    "        J=costfunction(x_train,y_train,theta)\n",
    "        cost.append(J[0])\n",
    "        l=l+1\n",
    "    return theta,cost\n",
    "    "
   ]
  },
  {
   "cell_type": "code",
   "execution_count": 14,
   "metadata": {},
   "outputs": [
    {
     "name": "stdout",
     "output_type": "stream",
     "text": [
      "Theta values are [[-14.05380132 149.04033453]]\n"
     ]
    }
   ],
   "source": [
    "thetas,J_history=gradientDescent(x_train,y_train,theta,alpha,num_iters)\n",
    "print(\"Theta values are\",thetas)"
   ]
  },
  {
   "cell_type": "code",
   "execution_count": 15,
   "metadata": {},
   "outputs": [
    {
     "data": {
      "image/png": "[encoded data removed]",
      "text/plain": [
       "<Figure size 432x288 with 1 Axes>"
      ]
     },
     "metadata": {
      "needs_background": "light"
     },
     "output_type": "display_data"
    }
   ],
   "source": [
    "plt.figure(3)\n",
    "plt.plot(J_history)\n",
    "plt.title(\"COST FUNCTION\")\n",
    "plt.xlabel('Number of iteration')\n",
    "plt.ylabel('J_history')\n",
    "plt.show()"
   ]
  },
  {
   "cell_type": "markdown",
   "metadata": {},
   "source": [
    "## Predicting Y"
   ]
  },
  {
   "cell_type": "code",
   "execution_count": 16,
   "metadata": {},
   "outputs": [
    {
     "name": "stdout",
     "output_type": "stream",
     "text": [
      "Training Error: 0.16887182718904525\n"
     ]
    }
   ],
   "source": [
    "yhat=np.matmul(thetas,np.transpose(x_train))\n",
    "yhat=np.transpose(yhat)\n",
    "train_err=np.sum(np.abs(((y_train/max(y_train))-(yhat/max(yhat)))/len(yhat)))\n",
    "print(\"Training Error:\",train_err)"
   ]
  },
  {
   "cell_type": "code",
   "execution_count": 17,
   "metadata": {},
   "outputs": [
    {
     "data": {
      "image/png": "[encoded data removed]",
      "text/plain": [
       "<Figure size 432x288 with 1 Axes>"
      ]
     },
     "metadata": {
      "needs_background": "light"
     },
     "output_type": "display_data"
    }
   ],
   "source": [
    "plt.figure(4)\n",
    "plt.plot(x_train,y_train,'*r',label='x_train')\n",
    "plt.plot(x_train,yhat,'-b',label='yhat')\n",
    "plt.title('Linear Regression Plot')\n",
    "plt.xlabel('X_train')\n",
    "plt.ylabel('yhat')\n",
    "plt.legend()\n",
    "plt.show()"
   ]
  },
  {
   "cell_type": "code",
   "execution_count": null,
   "metadata": {},
   "outputs": [],
   "source": []
  }
 ],
 "metadata": {
  "kernelspec": {
   "display_name": "Python 3 (ipykernel)",
   "language": "python",
   "name": "python3"
  },
  "language_info": {
   "codemirror_mode": {
    "name": "ipython",
    "version": 3
   },
   "file_extension": ".py",
   "mimetype": "text/x-python",
   "name": "python",
   "nbconvert_exporter": "python",
   "pygments_lexer": "ipython3",
   "version": "3.9.7"
  }
 },
 "nbformat": 4,
 "nbformat_minor": 2
}
